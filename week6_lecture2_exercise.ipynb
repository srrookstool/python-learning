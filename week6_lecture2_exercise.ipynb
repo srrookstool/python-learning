{
 "cells": [
  {
   "cell_type": "code",
   "execution_count": 4,
   "id": "e641565f",
   "metadata": {},
   "outputs": [
    {
     "name": "stdout",
     "output_type": "stream",
     "text": [
      "Capital letters: ['H', 'T', 'M', 'L', 'C', 'S', 'S', 'N', 'P', 'L']\n"
     ]
    }
   ],
   "source": [
    "'''\n",
    "practice Unit 1.1\n",
    "'''\n",
    "import re\n",
    "\n",
    "# Find all capital letters in text \n",
    "text = \"HTML and CSS are Not Programming Languages\" \n",
    "pattern = r\"[A-Z]\"  # Fill in pattern for capital letters \n",
    " \n",
    "capitals = re.findall(pattern, text) \n",
    "print(f\"Capital letters: {capitals}\")"
   ]
  },
  {
   "cell_type": "code",
   "execution_count": 21,
   "id": "702cee0c",
   "metadata": {},
   "outputs": [
    {
     "name": "stdout",
     "output_type": "stream",
     "text": [
      "['hello', 'hi there']\n"
     ]
    }
   ],
   "source": [
    "'''\n",
    "practice Unit 1.2\n",
    "'''\n",
    "# Extract all quoted strings from text \n",
    "text = 'He said \"hello\" and she replied \"hi there\" quietly'\n",
    "# Write pattern to extract text between quotes\n",
    "# Expected: ['hello', 'hi there']\n",
    "pattern = r\"\\\"(.+?)\\\"\"\n",
    "quotes = re.findall(pattern, text) \n",
    "print(quotes)"
   ]
  },
  {
   "cell_type": "code",
   "execution_count": 38,
   "id": "0916d48a",
   "metadata": {},
   "outputs": [
    {
     "name": "stdout",
     "output_type": "stream",
     "text": [
      "[('INFO', '2024-01-15 10:30:15', 'Server started '), ('ERROR', '2024-01-15 10:35:22', 'Connection failed '), ('WARNING', '2024-01-15 10:40:00', 'High memory usage ')]\n"
     ]
    }
   ],
   "source": [
    "'''\n",
    "practice Unit 1.3\n",
    "'''\n",
    "# Parse log entries: [LEVEL] timestamp - message \n",
    "log = \"\"\" \n",
    "[INFO] 2024-01-15 10:30:15 - Server started \n",
    "[ERROR] 2024-01-15 10:35:22 - Connection failed \n",
    "[WARNING] 2024-01-15 10:40:00 - High memory usage \n",
    "\"\"\"\n",
    "pattern = r\"\\[(.+)\\] (.+) \\- (.+)\"\n",
    "# Extract level, timestamp, and message for each entry\n",
    "# Return list of tuples\n",
    "match = re.findall(pattern,log)\n",
    "print(match)"
   ]
  },
  {
   "cell_type": "code",
   "execution_count": 40,
   "id": "e1a9e348",
   "metadata": {},
   "outputs": [
    {
     "name": "stdout",
     "output_type": "stream",
     "text": [
      "Found The at position 0\n",
      "Found quick at position 4\n",
      "Found brown at position 10\n",
      "Found fox at position 16\n"
     ]
    }
   ],
   "source": [
    "'''\n",
    "practice unit 2.1\n",
    "'''\n",
    "# Find all words and their positions \n",
    "text = \"The quick brown fox\" \n",
    "pattern = r\"\\w+\" \n",
    " \n",
    "# Use finditer to print each word and where it starts\n",
    "for match in re.finditer(pattern, text): \n",
    "    print(f\"Found {match.group()} at position {match.start()}\")"
   ]
  },
  {
   "cell_type": "code",
   "execution_count": 48,
   "id": "92a7a70e",
   "metadata": {},
   "outputs": [
    {
     "name": "stdout",
     "output_type": "stream",
     "text": [
      "0\n",
      "1\n",
      "2\n",
      "3\n"
     ]
    }
   ],
   "source": [
    "'''\n",
    "practice unit 2.2\n",
    "'''\n",
    "# Find overlapping patterns (findall can't do this) \n",
    "text = \"aaaa\"\n",
    "# Find all occurrences of \"aa\" including overlaps\n",
    "# Hint: Use lookahead (?=...) with finditer\n",
    "# Expected positions: 0, 1, 2\n",
    "pattern = r\"(?=a)a\"\n",
    "for match in re.finditer(pattern,text):\n",
    "    print(match.start())"
   ]
  },
  {
   "cell_type": "code",
   "execution_count": 55,
   "id": "7c650dae",
   "metadata": {},
   "outputs": [
    {
     "name": "stdout",
     "output_type": "stream",
     "text": [
      "{'the': [0, 12, 24], 'cat': [4], 'and': [8, 20], 'dog': [16], 'bird': [28]}\n"
     ]
    }
   ],
   "source": [
    "'''\n",
    "practice unit 2.3\n",
    "'''\n",
    "# Build a concordance (word index with positions) \n",
    "text = \"the cat and the dog and the bird\"\n",
    "# Create a dictionary: word -> list of positions\n",
    "# Example: {'the': [0, 12, 24], 'cat': [4], ...} \n",
    "concordance = {} \n",
    "# Use finditer to build the concordance\n",
    "for match in re.finditer(r'\\w+',text):\n",
    "    if match.group() not in concordance:\n",
    "        concordance[match.group()] = [match.start()]\n",
    "    else: concordance[match.group()].append(match.start())\n",
    "print(concordance)"
   ]
  },
  {
   "cell_type": "code",
   "execution_count": 6,
   "id": "01d85c88",
   "metadata": {},
   "outputs": [
    {
     "name": "stdout",
     "output_type": "stream",
     "text": [
      "Snake case: Convert_this_to_snake_case\n"
     ]
    }
   ],
   "source": [
    "'''\n",
    "practice unit 3.1\n",
    "'''\n",
    "# Replace all spaces with underscores \n",
    "text = \"Convert this to snake case\" \n",
    "pattern = r\" \"  # Fill in pattern for space \n",
    "replacement = \"_\"  # Fill in replacement \n",
    " \n",
    "result = re.sub(pattern, replacement, text) \n",
    "print(f\"Snake case: {result}\")"
   ]
  },
  {
   "cell_type": "code",
   "execution_count": null,
   "id": "3d43248c",
   "metadata": {},
   "outputs": [
    {
     "name": "stdout",
     "output_type": "stream",
     "text": [
      "Masked email: Contact **@example.com or **@company.org\n"
     ]
    }
   ],
   "source": [
    "'''\n",
    "practice unit 3.2\n",
    "'''\n",
    "# Mask email addresses (keep first letter and domain) \n",
    "text = \"Contact john@example.com or mary@company.org\"\n",
    "pattern = r\"\\w(?=@)\"\n",
    "# Replace middle part with ***\n",
    "# Expected: \"Contact j***@example.com or m***@company.org\"\n",
    "result = re.sub(pattern, \"*\", text)\n",
    "print(f\"Masked email: {result}\")\n"
   ]
  },
  {
   "cell_type": "code",
   "execution_count": null,
   "id": "f9a7b61e",
   "metadata": {},
   "outputs": [],
   "source": [
    "'''\n",
    "practice unit 3.3\n",
    "'''\n",
    "# Convert markdown links to HTML \n",
    "text = \"Check [Google](https://google.com) and [GitHub](https://github.com)\"\n",
    "# Convert [text](url) to <a href=\"url\">text</a>\n",
    "# Use groups and backreferences"
   ]
  },
  {
   "cell_type": "code",
   "execution_count": 45,
   "id": "89bda746",
   "metadata": {},
   "outputs": [
    {
     "name": "stdout",
     "output_type": "stream",
     "text": [
      "C-words: []\n"
     ]
    }
   ],
   "source": [
    "'''\n",
    "practice unit 4.1\n",
    "'''\n",
    "# Compile a pattern to find all words starting with 'c' \n",
    "pattern = re.compile(r\"^c\\w\")  # Fill in pattern \n",
    " \n",
    "text = \"The cat chased the clever mouse carefully\" \n",
    "matches = pattern.findall(text)  # Use compiled pattern \n",
    "print(f\"C-words: {matches}\") "
   ]
  },
  {
   "cell_type": "code",
   "execution_count": null,
   "id": "27b457f6",
   "metadata": {},
   "outputs": [],
   "source": [
    "'''\n",
    "practice unit 4.2\n",
    "'''\n",
    "# Create a validation class with compiled patterns\n",
    "class Validator: \n",
    "    # Compile patterns for email, phone, and zip code \n",
    "    EMAIL = re.compile(r\"___\")  # Valid email pattern \n",
    "    PHONE = re.compile(r\"___\")  # 10-digit phone \n",
    "    ZIP = re.compile(r\"___\")    # 5-digit zip code \n",
    " \n",
    "    @staticmethod \n",
    "    def is_valid_email(text): \n",
    "        # Use EMAIL pattern \n",
    "        pass \n",
    " \n",
    "# Test the validator"
   ]
  },
  {
   "cell_type": "code",
   "execution_count": null,
   "id": "0fd2b380",
   "metadata": {},
   "outputs": [],
   "source": [
    "'''\n",
    "practice unit 4.3\n",
    "'''\n",
    "# Create a text processor with multiple compiled patterns\n",
    "class TextProcessor: \n",
    "    def __init__(self): \n",
    "        # Compile patterns for: \n",
    "        # - URLs to links \n",
    "        # - Emails to masked \n",
    "        # - Phone numbers to formatted \n",
    "        pass \n",
    " \n",
    "    def process(self, text): \n",
    "        # Apply all transformations \n",
    "        pass \n",
    " \n",
    "# Process: \"Call 5551234567 or email user@test.com\"\n"
   ]
  },
  {
   "cell_type": "code",
   "execution_count": null,
   "id": "df83d73e",
   "metadata": {},
   "outputs": [],
   "source": [
    "'''\n",
    "practice unit 5.1\n",
    "'''\n",
    "# Compare compiled vs non-compiled pattern performance \n",
    "text = \"The quick brown fox jumps over the lazy dog\" * 100 \n",
    " \n",
    "# Test finding all words\n",
    "# 1. Use re.findall without compilation\n",
    "# 2. Use compiled pattern\n",
    "# 3. Compare times for 1000 iterations"
   ]
  },
  {
   "cell_type": "code",
   "execution_count": null,
   "id": "acb0e5e5",
   "metadata": {},
   "outputs": [],
   "source": [
    "'''\n",
    "practice unit 5.2\n",
    "'''\n",
    "# Optimize this inefficient pattern \n",
    "bad_pattern = r\".*@.*\\..*\"  # Email matching \n",
    " \n",
    "# Rewrite to be more efficient:\n",
    "# - Be more specific\n",
    "# - Avoid .* where possible\n",
    "# - Use character classes"
   ]
  },
  {
   "cell_type": "code",
   "execution_count": null,
   "id": "132e6d0c",
   "metadata": {},
   "outputs": [],
   "source": [
    "'''\n",
    "practice unit 5.3\n",
    "'''\n",
    "# Create an efficient email validator\n",
    "def validate_emails_efficient(email_list): \n",
    "    \"\"\" \n",
    "    Validate a list of emails efficiently \n",
    "    - Compile pattern once \n",
    "    - Use specific pattern \n",
    "    - Return dict: email -> is_valid \n",
    "    \"\"\" \n",
    "    pass \n",
    " \n",
    "# Test with 10000 emails \n",
    "test_emails = [f\"user{i}@example.com\" for i in range(10000)] "
   ]
  },
  {
   "cell_type": "code",
   "execution_count": null,
   "id": "bb76d675",
   "metadata": {},
   "outputs": [],
   "source": [
    "'''\n",
    "practice unit 6.1\n",
    "'''\n",
    "# Rewrite this pattern using verbose mode with comments \n",
    "pattern = r\"^\\d{3}-\\d{2}-\\d{4}$\"  # SSN format \n",
    " \n",
    "# Rewrite with re.VERBOSE and helpful comments \n",
    "verbose_pattern = re.compile(r\"\"\" \n",
    "                                # Add your pattern here with comments \n",
    "                             \"\"\", re.VERBOSE)"
   ]
  },
  {
   "cell_type": "code",
   "execution_count": null,
   "id": "8b231345",
   "metadata": {},
   "outputs": [],
   "source": [
    "'''\n",
    "practice unit 6-2\n",
    "'''\n",
    "# Optimize this inefficient pattern\n",
    "bad_pattern = r\".*@.*\\..*\"  # Email matching\n",
    "\n",
    "# Rewrite to be more efficient:\n",
    "# - Be more specific\n",
    "# - Avoid .* where possible\n",
    "# - Use character classes"
   ]
  },
  {
   "cell_type": "code",
   "execution_count": null,
   "id": "eeefa05b",
   "metadata": {},
   "outputs": [],
   "source": [
    "'''\n",
    "practice unit 6-3\n",
    "'''\n",
    "# Create an efficient email validator\n",
    "def validate_emails_efficient(email_list):\n",
    "    \"\"\"\n",
    "    Validate a list of emails efficiently\n",
    "    - Compile pattern once\n",
    "    - Use specific pattern\n",
    "    - Return dict: email -> is_valid\n",
    "    \"\"\"\n",
    "    pass\n",
    "\n",
    "# Test with 10000 emails\n",
    "test_emails = [f\"user{i}@example.com\" for i in range(10000)]"
   ]
  }
 ],
 "metadata": {
  "kernelspec": {
   "display_name": "Python 3",
   "language": "python",
   "name": "python3"
  },
  "language_info": {
   "codemirror_mode": {
    "name": "ipython",
    "version": 3
   },
   "file_extension": ".py",
   "mimetype": "text/x-python",
   "name": "python",
   "nbconvert_exporter": "python",
   "pygments_lexer": "ipython3",
   "version": "3.13.7"
  }
 },
 "nbformat": 4,
 "nbformat_minor": 5
}
